{
 "cells": [
  {
   "cell_type": "code",
   "execution_count": 1,
   "metadata": {},
   "outputs": [
    {
     "name": "stderr",
     "output_type": "stream",
     "text": [
      "Using TensorFlow backend.\n"
     ]
    }
   ],
   "source": [
    "import sys\n",
    "import pandas as pd\n",
    "import numpy as np\n",
    "import random as rn\n",
    "from torchBertEmbedding import embedTweets,cosine_similarity\n",
    "from pytorch_pretrained_bert import BertTokenizer\n",
    "from pytorch_pretrained_bert import BertModel"
   ]
  },
  {
   "cell_type": "code",
   "execution_count": 2,
   "metadata": {
    "scrolled": true
   },
   "outputs": [
    {
     "data": {
      "text/html": [
       "<div>\n",
       "<style scoped>\n",
       "    .dataframe tbody tr th:only-of-type {\n",
       "        vertical-align: middle;\n",
       "    }\n",
       "\n",
       "    .dataframe tbody tr th {\n",
       "        vertical-align: top;\n",
       "    }\n",
       "\n",
       "    .dataframe thead th {\n",
       "        text-align: right;\n",
       "    }\n",
       "</style>\n",
       "<table border=\"1\" class=\"dataframe\">\n",
       "  <thead>\n",
       "    <tr style=\"text-align: right;\">\n",
       "      <th></th>\n",
       "      <th>Id</th>\n",
       "      <th>Username</th>\n",
       "      <th>text</th>\n",
       "      <th>Timestamp</th>\n",
       "      <th>NumberOfRT</th>\n",
       "      <th>NumberOfForward</th>\n",
       "      <th>text_tokens</th>\n",
       "      <th>sentance</th>\n",
       "    </tr>\n",
       "  </thead>\n",
       "  <tbody>\n",
       "    <tr>\n",
       "      <th>0</th>\n",
       "      <td>261547192714670082</td>\n",
       "      <td>JhenlEvabless</td>\n",
       "      <td>@Digicel_Jamaica...they never failed during sa...</td>\n",
       "      <td>1351146480</td>\n",
       "      <td>3</td>\n",
       "      <td>1</td>\n",
       "      <td>['digicel_jamaica', 'never', 'fail', 'dure', '...</td>\n",
       "      <td>digicel_jamaica never fail dure sandi mentiont...</td>\n",
       "    </tr>\n",
       "    <tr>\n",
       "      <th>1</th>\n",
       "      <td>261547247601319936</td>\n",
       "      <td>yonkersoem40</td>\n",
       "      <td>RT @NYSDHSES: #NYS #EOC activating Saturday fo...</td>\n",
       "      <td>1351143780</td>\n",
       "      <td>2</td>\n",
       "      <td>2</td>\n",
       "      <td>['nysdhs', 'nys', 'eoc', 'activ', 'saturday', ...</td>\n",
       "      <td>nysdhs nys eoc activ saturday strateg plan res...</td>\n",
       "    </tr>\n",
       "    <tr>\n",
       "      <th>2</th>\n",
       "      <td>261547683091714049</td>\n",
       "      <td>washingtonpost</td>\n",
       "      <td>4 Hurricane Sandy scenarios for D.C.: http://w...</td>\n",
       "      <td>1351147500</td>\n",
       "      <td>43</td>\n",
       "      <td>3</td>\n",
       "      <td>['hurrican', 'sandi', 'scenario', 'http', 'wap...</td>\n",
       "      <td>hurrican sandi scenario http wapo suiud via ca...</td>\n",
       "    </tr>\n",
       "    <tr>\n",
       "      <th>3</th>\n",
       "      <td>261547473980510208</td>\n",
       "      <td>88Timez</td>\n",
       "      <td>I Personally Blame The Government Of The Baham...</td>\n",
       "      <td>1351147200</td>\n",
       "      <td>2</td>\n",
       "      <td>2</td>\n",
       "      <td>['person', 'blame', 'govern', 'bahama', 'sandi']</td>\n",
       "      <td>person blame govern bahama sandi</td>\n",
       "    </tr>\n",
       "    <tr>\n",
       "      <th>4</th>\n",
       "      <td>261547721998082048</td>\n",
       "      <td>JaneShmame</td>\n",
       "      <td>@HandySandie “ @rtenews: Hurricane Sandy hits ...</td>\n",
       "      <td>1351113900</td>\n",
       "      <td>1</td>\n",
       "      <td>0</td>\n",
       "      <td>['handysandi', 'rtenew', 'hurrican', 'sandi', ...</td>\n",
       "      <td>handysandi rtenew hurrican sandi hit southeast...</td>\n",
       "    </tr>\n",
       "  </tbody>\n",
       "</table>\n",
       "</div>"
      ],
      "text/plain": [
       "                   Id        Username  \\\n",
       "0  261547192714670082   JhenlEvabless   \n",
       "1  261547247601319936    yonkersoem40   \n",
       "2  261547683091714049  washingtonpost   \n",
       "3  261547473980510208         88Timez   \n",
       "4  261547721998082048      JaneShmame   \n",
       "\n",
       "                                                text   Timestamp  NumberOfRT  \\\n",
       "0  @Digicel_Jamaica...they never failed during sa...  1351146480           3   \n",
       "1  RT @NYSDHSES: #NYS #EOC activating Saturday fo...  1351143780           2   \n",
       "2  4 Hurricane Sandy scenarios for D.C.: http://w...  1351147500          43   \n",
       "3  I Personally Blame The Government Of The Baham...  1351147200           2   \n",
       "4  @HandySandie “ @rtenews: Hurricane Sandy hits ...  1351113900           1   \n",
       "\n",
       "   NumberOfForward                                        text_tokens  \\\n",
       "0                1  ['digicel_jamaica', 'never', 'fail', 'dure', '...   \n",
       "1                2  ['nysdhs', 'nys', 'eoc', 'activ', 'saturday', ...   \n",
       "2                3  ['hurrican', 'sandi', 'scenario', 'http', 'wap...   \n",
       "3                2   ['person', 'blame', 'govern', 'bahama', 'sandi']   \n",
       "4                0  ['handysandi', 'rtenew', 'hurrican', 'sandi', ...   \n",
       "\n",
       "                                            sentance  \n",
       "0  digicel_jamaica never fail dure sandi mentiont...  \n",
       "1  nysdhs nys eoc activ saturday strateg plan res...  \n",
       "2  hurrican sandi scenario http wapo suiud via ca...  \n",
       "3                   person blame govern bahama sandi  \n",
       "4  handysandi rtenew hurrican sandi hit southeast...  "
      ]
     },
     "execution_count": 2,
     "metadata": {},
     "output_type": "execute_result"
    }
   ],
   "source": [
    "df = pd.read_csv('2012_6_events_removed_nonEnglish.csv',sep='\\t')\n",
    "df.head()"
   ]
  },
  {
   "cell_type": "code",
   "execution_count": 3,
   "metadata": {},
   "outputs": [],
   "source": [
    "documents = []\n",
    "for sent in df.sentance:\n",
    "    documents.append(sent)"
   ]
  },
  {
   "cell_type": "code",
   "execution_count": 4,
   "metadata": {},
   "outputs": [
    {
     "name": "stdout",
     "output_type": "stream",
     "text": [
      "CPU times: user 1min 3s, sys: 23.6 s, total: 1min 26s\n",
      "Wall time: 23.9 s\n"
     ]
    }
   ],
   "source": [
    "%%time\n",
    "pool_embed_tweet = None\n",
    "bert = BertModel.from_pretrained('bert-base-uncased')\n",
    "tokenizer = BertTokenizer.from_pretrained('bert-base-uncased', do_lower_case=True)\n",
    "for i in range(0,200,100):\n",
    "    embed_tweet = embedTweets(documents[i:i+100],bert,tokenizer)\n",
    "    if i == 0:\n",
    "        pool_embed_tweet = embed_tweet\n",
    "    else:\n",
    "        pool_embed_tweet = np.vstack((pool_embed_tweet,embed_tweet))\n"
   ]
  },
  {
   "cell_type": "code",
   "execution_count": 5,
   "metadata": {},
   "outputs": [
    {
     "name": "stdout",
     "output_type": "stream",
     "text": [
      "[[0.99999994 0.97178626 0.92504525 ... 0.9275969  0.91177106 0.98805594]\n",
      " [0.97178626 1.0000002  0.97246194 ... 0.9578161  0.9667164  0.9559363 ]\n",
      " [0.92504525 0.97246194 0.9999993  ... 0.9295991  0.979487   0.90504223]\n",
      " ...\n",
      " [0.9275969  0.9578161  0.9295991  ... 0.99999994 0.94320834 0.89756817]\n",
      " [0.91177106 0.9667164  0.979487   ... 0.94320834 0.99999964 0.88834447]\n",
      " [0.98805594 0.9559363  0.90504223 ... 0.89756817 0.88834447 1.0000001 ]]\n"
     ]
    }
   ],
   "source": [
    "from sklearn.metrics.pairwise import cosine_similarity\n",
    "print(cosine_similarity(pool_embed_tweet, pool_embed_tweet))"
   ]
  },
  {
   "cell_type": "code",
   "execution_count": null,
   "metadata": {},
   "outputs": [],
   "source": []
  }
 ],
 "metadata": {
  "kernelspec": {
   "display_name": "Python 3",
   "language": "python",
   "name": "python3"
  },
  "language_info": {
   "codemirror_mode": {
    "name": "ipython",
    "version": 3
   },
   "file_extension": ".py",
   "mimetype": "text/x-python",
   "name": "python",
   "nbconvert_exporter": "python",
   "pygments_lexer": "ipython3",
   "version": "3.6.9"
  }
 },
 "nbformat": 4,
 "nbformat_minor": 2
}
